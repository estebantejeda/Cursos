{
 "cells": [
  {
   "cell_type": "code",
   "execution_count": 3,
   "id": "97e49797",
   "metadata": {},
   "outputs": [],
   "source": [
    "import torch\n",
    "from torch.nn import Linear"
   ]
  },
  {
   "cell_type": "code",
   "execution_count": 11,
   "id": "6bb31d65",
   "metadata": {},
   "outputs": [
    {
     "name": "stdout",
     "output_type": "stream",
     "text": [
      "Parameter containing:\n",
      "tensor([-0.4414], requires_grad=True) Parameter containing:\n",
      "tensor([[0.5153]], requires_grad=True)\n"
     ]
    }
   ],
   "source": [
    "torch.manual_seed(1)\n",
    "model = Linear(in_features=1, out_features=1) # Linear(1,1)\n",
    "print(model.bias, model.weight)"
   ]
  },
  {
   "cell_type": "code",
   "execution_count": 19,
   "id": "0ff53998",
   "metadata": {},
   "outputs": [
    {
     "name": "stdout",
     "output_type": "stream",
     "text": [
      "tensor([[0.5891],\n",
      "        [1.2590]], grad_fn=<AddmmBackward0>)\n"
     ]
    }
   ],
   "source": [
    "x = torch.tensor([[2.0], [3.3]])\n",
    "print(model(x))"
   ]
  }
 ],
 "metadata": {
  "kernelspec": {
   "display_name": "Python 3 (ipykernel)",
   "language": "python",
   "name": "python3"
  },
  "language_info": {
   "codemirror_mode": {
    "name": "ipython",
    "version": 3
   },
   "file_extension": ".py",
   "mimetype": "text/x-python",
   "name": "python",
   "nbconvert_exporter": "python",
   "pygments_lexer": "ipython3",
   "version": "3.9.12"
  }
 },
 "nbformat": 4,
 "nbformat_minor": 5
}
