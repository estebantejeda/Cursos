{
 "cells": [
  {
   "cell_type": "code",
   "execution_count": 1,
   "id": "e0628c7d",
   "metadata": {},
   "outputs": [],
   "source": [
    "import torch\n",
    "import torch.nn as nn\n",
    "import matplotlib.pyplot as plt\n",
    "import numpy as np"
   ]
  },
  {
   "cell_type": "code",
   "execution_count": 2,
   "id": "b3cc3db6",
   "metadata": {},
   "outputs": [
    {
     "data": {
      "image/png": "[encoded data removed]",
      "text/plain": [
       "<Figure size 432x288 with 1 Axes>"
      ]
     },
     "metadata": {
      "needs_background": "light"
     },
     "output_type": "display_data"
    }
   ],
   "source": [
    "# Creando dataset de ejemplo\n",
    "X = torch.randn(100, 1)*10\n",
    "y = X + 3*torch.randn(100,1)\n",
    "plt.plot(X, y, 'o');\n",
    "plt.ylabel(\"y\");\n",
    "plt.xlabel(\"x\");"
   ]
  },
  {
   "cell_type": "code",
   "execution_count": 3,
   "id": "7e1537a5",
   "metadata": {},
   "outputs": [],
   "source": [
    "class linear_Regression(nn.Module):\n",
    "    def __init__(self, input_size, output_size):\n",
    "        super().__init__()\n",
    "        self.linear = nn.Linear(input_size, output_size)\n",
    "    def forward(self, x):\n",
    "        pred = self.linear(x)\n",
    "        return pred"
   ]
  },
  {
   "cell_type": "code",
   "execution_count": 4,
   "id": "202e904f",
   "metadata": {},
   "outputs": [],
   "source": [
    "torch.manual_seed(1)\n",
    "model = linear_Regression(1,1)"
   ]
  },
  {
   "cell_type": "code",
   "execution_count": 5,
   "id": "495ddf90",
   "metadata": {},
   "outputs": [
    {
     "name": "stdout",
     "output_type": "stream",
     "text": [
      "Parameter containing:\n",
      "tensor([[0.5153]], requires_grad=True) Parameter containing:\n",
      "tensor([-0.4414], requires_grad=True)\n"
     ]
    }
   ],
   "source": [
    "[w, b] = model.parameters()\n",
    "print(w, b)"
   ]
  },
  {
   "cell_type": "code",
   "execution_count": 6,
   "id": "cc139e1b",
   "metadata": {},
   "outputs": [],
   "source": [
    "[w, b] = model.parameters()\n",
    "def get_params():\n",
    "    return w[0][0].item(), b[0].item()"
   ]
  },
  {
   "cell_type": "code",
   "execution_count": 7,
   "id": "a1b9e80c",
   "metadata": {},
   "outputs": [],
   "source": [
    "def plot_fit(title):\n",
    "    plt.title = title\n",
    "    w1, b1 = get_params()\n",
    "    x1 = np.array([-30, 30])\n",
    "    y1 = w1*x1 + b1\n",
    "    plt.plot(x1, y1, 'r')\n",
    "    plt.scatter(X, y)\n",
    "    plt.show()"
   ]
  },
  {
   "cell_type": "code",
   "execution_count": 8,
   "id": "e3ef4585",
   "metadata": {},
   "outputs": [
    {
     "data": {
      "image/png": "[encoded data removed]",
      "text/plain": [
       "<Figure size 432x288 with 1 Axes>"
      ]
     },
     "metadata": {
      "needs_background": "light"
     },
     "output_type": "display_data"
    }
   ],
   "source": [
    "plot_fit(\"Initial Model\")"
   ]
  },
  {
   "cell_type": "code",
   "execution_count": 9,
   "id": "d0d53f86",
   "metadata": {},
   "outputs": [],
   "source": [
    "criterion = nn.MSELoss()\n",
    "optimizer = torch.optim.SGD(model.parameters(), lr=1e-3)"
   ]
  },
  {
   "cell_type": "code",
   "execution_count": 10,
   "id": "e6230207",
   "metadata": {},
   "outputs": [
    {
     "name": "stdout",
     "output_type": "stream",
     "text": [
      "epoch:  0 loss:  31.335412979125977\n",
      "epoch:  1 loss:  23.4608154296875\n",
      "epoch:  2 loss:  18.218006134033203\n",
      "epoch:  3 loss:  14.727383613586426\n",
      "epoch:  4 loss:  12.403324127197266\n",
      "epoch:  5 loss:  10.855929374694824\n",
      "epoch:  6 loss:  9.825623512268066\n",
      "epoch:  7 loss:  9.139581680297852\n",
      "epoch:  8 loss:  8.682743072509766\n",
      "epoch:  9 loss:  8.378503799438477\n",
      "epoch:  10 loss:  8.175860404968262\n",
      "epoch:  11 loss:  8.040857315063477\n",
      "epoch:  12 loss:  7.950890064239502\n",
      "epoch:  13 loss:  7.890903949737549\n",
      "epoch:  14 loss:  7.8508806228637695\n",
      "epoch:  15 loss:  7.824148654937744\n",
      "epoch:  16 loss:  7.806264877319336\n",
      "epoch:  17 loss:  7.794272422790527\n",
      "epoch:  18 loss:  7.7862043380737305\n",
      "epoch:  19 loss:  7.780746936798096\n",
      "epoch:  20 loss:  7.777029991149902\n",
      "epoch:  21 loss:  7.774470806121826\n",
      "epoch:  22 loss:  7.772683620452881\n",
      "epoch:  23 loss:  7.7714104652404785\n",
      "epoch:  24 loss:  7.770479679107666\n",
      "epoch:  25 loss:  7.769777297973633\n",
      "epoch:  26 loss:  7.769228458404541\n",
      "epoch:  27 loss:  7.768779754638672\n",
      "epoch:  28 loss:  7.768400192260742\n",
      "epoch:  29 loss:  7.768065929412842\n",
      "epoch:  30 loss:  7.767761707305908\n",
      "epoch:  31 loss:  7.7674784660339355\n",
      "epoch:  32 loss:  7.767210483551025\n",
      "epoch:  33 loss:  7.766952037811279\n",
      "epoch:  34 loss:  7.766699314117432\n",
      "epoch:  35 loss:  7.766451358795166\n",
      "epoch:  36 loss:  7.766208648681641\n",
      "epoch:  37 loss:  7.765966892242432\n",
      "epoch:  38 loss:  7.765727519989014\n",
      "epoch:  39 loss:  7.765490531921387\n",
      "epoch:  40 loss:  7.765254974365234\n",
      "epoch:  41 loss:  7.765020847320557\n",
      "epoch:  42 loss:  7.764787197113037\n",
      "epoch:  43 loss:  7.764554977416992\n",
      "epoch:  44 loss:  7.7643232345581055\n",
      "epoch:  45 loss:  7.764092922210693\n",
      "epoch:  46 loss:  7.763864517211914\n",
      "epoch:  47 loss:  7.763635635375977\n",
      "epoch:  48 loss:  7.763408184051514\n",
      "epoch:  49 loss:  7.763181686401367\n",
      "epoch:  50 loss:  7.762956619262695\n",
      "epoch:  51 loss:  7.762731552124023\n",
      "epoch:  52 loss:  7.762507438659668\n",
      "epoch:  53 loss:  7.762285232543945\n",
      "epoch:  54 loss:  7.7620625495910645\n",
      "epoch:  55 loss:  7.761842250823975\n",
      "epoch:  56 loss:  7.761620998382568\n",
      "epoch:  57 loss:  7.761402130126953\n",
      "epoch:  58 loss:  7.761183261871338\n",
      "epoch:  59 loss:  7.7609663009643555\n",
      "epoch:  60 loss:  7.760749340057373\n",
      "epoch:  61 loss:  7.760533332824707\n",
      "epoch:  62 loss:  7.760318756103516\n",
      "epoch:  63 loss:  7.760105133056641\n",
      "epoch:  64 loss:  7.759890556335449\n",
      "epoch:  65 loss:  7.759678363800049\n",
      "epoch:  66 loss:  7.759467124938965\n",
      "epoch:  67 loss:  7.759256362915039\n",
      "epoch:  68 loss:  7.7590460777282715\n",
      "epoch:  69 loss:  7.758837699890137\n",
      "epoch:  70 loss:  7.758629322052002\n",
      "epoch:  71 loss:  7.758421421051025\n",
      "epoch:  72 loss:  7.758215427398682\n",
      "epoch:  73 loss:  7.758009433746338\n",
      "epoch:  74 loss:  7.7578043937683105\n",
      "epoch:  75 loss:  7.7576003074646\n",
      "epoch:  76 loss:  7.757397651672363\n",
      "epoch:  77 loss:  7.7571940422058105\n",
      "epoch:  78 loss:  7.756992816925049\n",
      "epoch:  79 loss:  7.756791591644287\n",
      "epoch:  80 loss:  7.756591796875\n",
      "epoch:  81 loss:  7.756392002105713\n",
      "epoch:  82 loss:  7.7561936378479\n",
      "epoch:  83 loss:  7.755996227264404\n",
      "epoch:  84 loss:  7.755800247192383\n",
      "epoch:  85 loss:  7.755604267120361\n",
      "epoch:  86 loss:  7.75540828704834\n",
      "epoch:  87 loss:  7.755213737487793\n",
      "epoch:  88 loss:  7.7550201416015625\n",
      "epoch:  89 loss:  7.754827499389648\n",
      "epoch:  90 loss:  7.754634857177734\n",
      "epoch:  91 loss:  7.754444122314453\n",
      "epoch:  92 loss:  7.754252910614014\n",
      "epoch:  93 loss:  7.754062652587891\n",
      "epoch:  94 loss:  7.753873348236084\n",
      "epoch:  95 loss:  7.7536845207214355\n",
      "epoch:  96 loss:  7.753498077392578\n",
      "epoch:  97 loss:  7.753310680389404\n",
      "epoch:  98 loss:  7.753125190734863\n",
      "epoch:  99 loss:  7.752938270568848\n"
     ]
    }
   ],
   "source": [
    "epochs = 100\n",
    "losses = []\n",
    "for i in range(epochs):\n",
    "    y_pred = model.forward(X)\n",
    "    loss = criterion(y_pred, y)\n",
    "    print('epoch: ', i, \"loss: \", loss.item())\n",
    "    \n",
    "    losses.append(loss.item())\n",
    "    optimizer.zero_grad()\n",
    "    loss.backward()\n",
    "    optimizer.step()"
   ]
  },
  {
   "cell_type": "code",
   "execution_count": 11,
   "id": "7ffa1722",
   "metadata": {},
   "outputs": [
    {
     "data": {
      "text/plain": [
       "Text(0.5, 0, 'epoch')"
      ]
     },
     "execution_count": 11,
     "metadata": {},
     "output_type": "execute_result"
    },
    {
     "data": {
      "image/png": "[encoded data removed]",
      "text/plain": [
       "<Figure size 432x288 with 1 Axes>"
      ]
     },
     "metadata": {
      "needs_background": "light"
     },
     "output_type": "display_data"
    }
   ],
   "source": [
    "plt.plot(range(epochs), losses)\n",
    "plt.ylabel(\"Loss\")\n",
    "plt.xlabel(\"epoch\")"
   ]
  },
  {
   "cell_type": "code",
   "execution_count": 12,
   "id": "181733cd",
   "metadata": {},
   "outputs": [
    {
     "data": {
      "image/png": "[encoded data removed]",
      "text/plain": [
       "<Figure size 432x288 with 1 Axes>"
      ]
     },
     "metadata": {
      "needs_background": "light"
     },
     "output_type": "display_data"
    }
   ],
   "source": [
    "plot_fit(\"Trained Model\")"
   ]
  },
  {
   "cell_type": "code",
   "execution_count": null,
   "id": "be93238e",
   "metadata": {},
   "outputs": [],
   "source": []
  }
 ],
 "metadata": {
  "kernelspec": {
   "display_name": "Python 3 (ipykernel)",
   "language": "python",
   "name": "python3"
  },
  "language_info": {
   "codemirror_mode": {
    "name": "ipython",
    "version": 3
   },
   "file_extension": ".py",
   "mimetype": "text/x-python",
   "name": "python",
   "nbconvert_exporter": "python",
   "pygments_lexer": "ipython3",
   "version": "3.9.12"
  }
 },
 "nbformat": 4,
 "nbformat_minor": 5
}
